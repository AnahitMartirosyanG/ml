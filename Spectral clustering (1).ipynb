{
 "cells": [
  {
   "cell_type": "code",
   "execution_count": 1,
   "id": "ec5786cb",
   "metadata": {},
   "outputs": [],
   "source": [
    "import numpy as np\n",
    "from sklearn.metrics import silhouette_score\n",
    "from sklearn.cluster import KMeans\n",
    "import numpy as np\n",
    "import scipy\n",
    "import matplotlib.pyplot as plt\n",
    "from sklearn.datasets import make_blobs, make_moons, make_circles\n",
    "from sklearn.preprocessing import StandardScaler"
   ]
  },
  {
   "cell_type": "code",
   "execution_count": 7,
   "id": "0f7be9a9",
   "metadata": {},
   "outputs": [],
   "source": [
    "class spectral_clustering:\n",
    "    \n",
    "    def __init__(self, n_clusters, gamma):\n",
    "        self.n_clusters = n_clusters\n",
    "        self.gamma = gamma\n",
    "    \n",
    "    def fit(self, X):\n",
    "        affinity_matrix = np.zeros((X.shape[0],X.shape[0]))\n",
    "        d_i = np.zeros((len(affinity_matrix)))\n",
    "        for i in range(X.shape[0]):\n",
    "            for j in range(X.shape[0]):\n",
    "                affinity_matrix[i][j] = np.exp(-self.gamma*(np.linalg.norm(X[i]-X[j])**2))\n",
    "        for i in range(len(affinity_matrix)):\n",
    "            d_i[i] = sum(affinity_matrix[i])\n",
    "        degree_matrix = np.diag(d_i) \n",
    "        laplacian = degree_matrix - affinity_matrix\n",
    "        eigvals, eigvectors = scipy.linalg.eig(laplacian)\n",
    "        h = eigvectors[np.argsort(eigvals)[:self.n_clusters]]        \n",
    "        kmeans = KMeans(n_clusters=self.n_clusters, random_state=0).fit(X)\n",
    "        return kmeans.labels_           \n",
    "                                   \n",
    "   \n",
    "    def predict(self, X):\n",
    "\n",
    "        return kmeans.labels_\n",
    "    "
   ]
  },
  {
   "cell_type": "code",
   "execution_count": 8,
   "id": "4d8f541b",
   "metadata": {},
   "outputs": [],
   "source": [
    "centers = [[1, 1], [-1, -1], [1, -1]]\n",
    "X_blobs, y_blobs = make_blobs(n_samples=1000, centers=centers, cluster_std=0.3,random_state=0)"
   ]
  },
  {
   "cell_type": "code",
   "execution_count": 9,
   "id": "86caf276",
   "metadata": {},
   "outputs": [
    {
     "data": {
      "text/plain": [
       "0.7263165596862805"
      ]
     },
     "execution_count": 9,
     "metadata": {},
     "output_type": "execute_result"
    }
   ],
   "source": [
    "sp =spectral_clustering(3, 0.1)\n",
    "y_pred = sp.fit(X_blobs)\n",
    "silhouette_score(X_blobs, y_pred)"
   ]
  },
  {
   "cell_type": "code",
   "execution_count": 10,
   "id": "6eabc730",
   "metadata": {},
   "outputs": [
    {
     "data": {
      "text/plain": [
       "0.7263165596862805"
      ]
     },
     "execution_count": 10,
     "metadata": {},
     "output_type": "execute_result"
    }
   ],
   "source": [
    "silhouette_score(X_blobs, y_blobs)"
   ]
  },
  {
   "cell_type": "code",
   "execution_count": 13,
   "id": "138e147f",
   "metadata": {},
   "outputs": [
    {
     "data": {
      "text/plain": [
       "1.0"
      ]
     },
     "execution_count": 13,
     "metadata": {},
     "output_type": "execute_result"
    }
   ],
   "source": [
    "precision_bcubed(y_blobs, y_pred)"
   ]
  },
  {
   "cell_type": "code",
   "execution_count": 12,
   "id": "d5d9a805",
   "metadata": {},
   "outputs": [],
   "source": [
    "\n",
    "def precision_bcubed(y_test, y_pred):\n",
    "    m = y_test.shape[0]\n",
    "    correctness = np.zeros((m, m))\n",
    "    pr_bcubed = 0\n",
    "    \n",
    "    for i in range(m ):\n",
    "        for j in range(m):\n",
    "            if (y_test[i] == y_test[j] and y_pred[i] == y_pred[j] or \n",
    "                y_test[i] != y_test[j]  and y_pred[i] != y_pred[j]):\n",
    "                \n",
    "                correctness[i][j] += 1\n",
    "        pr_bcubed += (sum(correctness[i, y_pred == y_pred[i]]) - 1 )/ (sum(y_pred == y_pred[i]) - 1)\n",
    "        return pr_bcubed\n",
    "    \n"
   ]
  },
  {
   "cell_type": "code",
   "execution_count": null,
   "id": "ad69d321",
   "metadata": {},
   "outputs": [],
   "source": []
  },
  {
   "cell_type": "code",
   "execution_count": null,
   "id": "1dbe9e94",
   "metadata": {},
   "outputs": [],
   "source": []
  }
 ],
 "metadata": {
  "kernelspec": {
   "display_name": "Python 3",
   "language": "python",
   "name": "python3"
  },
  "language_info": {
   "codemirror_mode": {
    "name": "ipython",
    "version": 3
   },
   "file_extension": ".py",
   "mimetype": "text/x-python",
   "name": "python",
   "nbconvert_exporter": "python",
   "pygments_lexer": "ipython3",
   "version": "3.8.8"
  }
 },
 "nbformat": 4,
 "nbformat_minor": 5
}
